{
  "nbformat": 4,
  "nbformat_minor": 0,
  "metadata": {
    "colab": {
      "name": "tensorflowBook.ipynb",
      "provenance": [],
      "collapsed_sections": [],
      "authorship_tag": "ABX9TyMRF54HHhMBkEraKbOVlfXF",
      "include_colab_link": true
    },
    "kernelspec": {
      "name": "python3",
      "display_name": "Python 3"
    }
  },
  "cells": [
    {
      "cell_type": "markdown",
      "metadata": {
        "id": "view-in-github",
        "colab_type": "text"
      },
      "source": [
        "<a href=\"https://colab.research.google.com/github/poby123/studyTensorflow/blob/master/tensorflowBook.ipynb\" target=\"_parent\"><img src=\"https://colab.research.google.com/assets/colab-badge.svg\" alt=\"Open In Colab\"/></a>"
      ]
    },
    {
      "cell_type": "markdown",
      "metadata": {
        "id": "OewgefFelYDB",
        "colab_type": "text"
      },
      "source": [
        "Tensorflow setup test code\n"
      ]
    },
    {
      "cell_type": "code",
      "metadata": {
        "id": "uI-JJSr5S-VG",
        "colab_type": "code",
        "colab": {
          "base_uri": "https://localhost:8080/",
          "height": 87
        },
        "outputId": "3e6d1549-2728-4954-e45f-b33a6f9cfa3d"
      },
      "source": [
        "%tensorflow_version 1.x #set tensorflow version 1.xx due default set is 2.xx\n",
        "import tensorflow as tf\n",
        "\n",
        "print(tf.__version__)\n",
        "hello = tf.constant('Hello, TensorFlow!')\n",
        "\n",
        "sess = tf.Session()\n",
        "print(sess.run(hello)) \n",
        "#'Hello, TensorFlow!'\n",
        "\n",
        "a = tf.constant(10)\n",
        "b = tf.constant(32)\n",
        "print(sess.run(a + b))\n",
        "#42\n",
        "\n",
        "sess.close()"
      ],
      "execution_count": null,
      "outputs": [
        {
          "output_type": "stream",
          "text": [
            "TensorFlow 1.x selected.\n",
            "1.15.2\n",
            "b'Hello, TensorFlow!'\n",
            "42\n"
          ],
          "name": "stdout"
        }
      ]
    },
    {
      "cell_type": "markdown",
      "metadata": {
        "id": "k7dLUunplXYC",
        "colab_type": "text"
      },
      "source": [
        "랭크는 텐서의 차원을 의미하는데, 랭크가 0이면 크기만 나타내는 스칼라, 랭크가 1이면 벡터, 2이면 행렬, 3이상이면 텐서라고 부른다.\n",
        "텐서플로우는 그래프구조로, 노드에 연산, 변수, 상수등을 정의하고, 노드간의 연결인 엣지를 통해서 텐서를 주고 받으면서 계산을 수행한다.\n",
        "\n"
      ]
    },
    {
      "cell_type": "markdown",
      "metadata": {
        "id": "B-GCnX1prheD",
        "colab_type": "text"
      },
      "source": [
        "```\n",
        "tf.constant(value, dtype=None, shape=None, name='Const')\n",
        "```\n",
        "tf.constant 는 상수 텐서를 선언하며 인자는 다음과 같다.<br>\n",
        "* value : 상수값이며, 직접 지정하거나 shape 형태로 값을 채울 수 있다. <br>\n",
        "* dtype : 데이터 타입이다. <br>\n",
        "* shape : 상수 데이터의 형태를 의미한다. <br>\n",
        "* name : 텐서의 이름이며, optional한 요소이다.\n",
        "\n",
        "ex)\n",
        "```\n",
        "#상수값을 직접 지정\n",
        "tensor = tf.constant([1,2,3,4,5,6,7])\n",
        "# => [1 2 3 4 5 6 7]\n",
        "\n",
        "#shape에 정의된 형태로 값을 채운다.\n",
        "tensor = tf.constant(-1.0, shape = [2,3])\n",
        "# => [[-1.-1.-1]\n",
        "      [-1.-1.-1]]\n",
        "```\n",
        "\n",
        "\n"
      ]
    },
    {
      "cell_type": "code",
      "metadata": {
        "id": "d15bMMiUTeUb",
        "colab_type": "code",
        "colab": {
          "base_uri": "https://localhost:8080/",
          "height": 34
        },
        "outputId": "16d08754-7408-4d63-84d2-b99d597a3a23"
      },
      "source": [
        "%tensorflow_version 1.x\n",
        "import tensorflow as tf\n",
        "\n",
        "#그래프 노드를 정의하고 출력한다.\n",
        "node1 = tf.constant(3.0, dtype=tf.float32)\n",
        "node2 = tf.constant(4.0) #암시적으로 tf.float32타입으로 선언된다.\n",
        "print(node1, node2)"
      ],
      "execution_count": null,
      "outputs": [
        {
          "output_type": "stream",
          "text": [
            "Tensor(\"Const_1:0\", shape=(), dtype=float32) Tensor(\"Const_2:0\", shape=(), dtype=float32)\n"
          ],
          "name": "stdout"
        }
      ]
    },
    {
      "cell_type": "markdown",
      "metadata": {
        "id": "YmEX2QhAmue1",
        "colab_type": "text"
      },
      "source": [
        "위에서 일반적으로는 3.0과 4.0이 출력되야 되겠지만, 텐서플로우에서 상수 선언은 그래프의 노드를 정의한 것뿐이므로, 실제 값을 출력하려면 정의한 그래프를 실행해야 한다. 출력값을 보면 노드는 Const_1:0 이라는 이름으로 정의되었고, float32타입의 () shape 형태의 텐서를 표현하는 노드임을 알 수 있다. 텐서플로우에서 그래프 실행은 아래와 같이 세션을 이용한다."
      ]
    },
    {
      "cell_type": "code",
      "metadata": {
        "id": "JFSod_YSnhvb",
        "colab_type": "code",
        "colab": {
          "base_uri": "https://localhost:8080/",
          "height": 70
        },
        "outputId": "bb56e7ec-7cf0-434a-c6fe-16187338db84"
      },
      "source": [
        "%tensorflow_version 1.x\n",
        "import tensorflow as tf\n",
        "\n",
        "#그래프 노드를 정의하고 출력한다.\n",
        "node1 = tf.constant(3.0, dtype=tf.float32)\n",
        "node2 = tf.constant(4.0) #암시적으로 tf.float32타입으로 선언된다.\n",
        "\n",
        "sess = tf.Session()\n",
        "print(\"node1, node2 : \",sess.run([node1, node2]))\n",
        "\n",
        "node3 = tf.add(node1, node2) #node1, node2 더하기\n",
        "print(\"node3 : \", node3)\n",
        "print(\"node3 : \", sess.run(node3))\n",
        "\n",
        "sess.close()"
      ],
      "execution_count": null,
      "outputs": [
        {
          "output_type": "stream",
          "text": [
            "node1, node2 :  [3.0, 4.0]\n",
            "node3 :  Tensor(\"Add_1:0\", shape=(), dtype=float32)\n",
            "node3 :  7.0\n"
          ],
          "name": "stdout"
        }
      ]
    },
    {
      "cell_type": "markdown",
      "metadata": {
        "id": "wSavnaV9pHSi",
        "colab_type": "text"
      },
      "source": [
        "위에서처럼 노드에 값을 직접 줄 수도 있지만, 노드만 만들어놓고 나중에 값을 줄 수도 있다."
      ]
    },
    {
      "cell_type": "markdown",
      "metadata": {
        "id": "wIjfZsm8uqNQ",
        "colab_type": "text"
      },
      "source": [
        "```\n",
        "tf.placeholder(dtype, shape = None, name = None)\n",
        "```\n",
        "* dtype : feed할 데이터의 타입\n",
        "* shape : feed할 데이터의 형태, None은 임의의 차원이 될 수 있는 특수 키워드이다.\n",
        "* name : 이름"
      ]
    },
    {
      "cell_type": "code",
      "metadata": {
        "id": "wN9O4qvzpV1i",
        "colab_type": "code",
        "colab": {
          "base_uri": "https://localhost:8080/",
          "height": 70
        },
        "outputId": "a2e684a1-53ec-4851-9537-6922f064eded"
      },
      "source": [
        "%tensorflow_version 1.x\n",
        "import tensorflow as tf\n",
        "\n",
        "a = tf.placeholder(tf.float32) #tf.constant 가 아닌 tf.placeholder로 노드를 만들어준다.\n",
        "b = tf.placeholder(tf.float32)\n",
        "adder_node = a + b # adder_node = tf.add(a,b) 와 똑같은 의미\n",
        "adder_and_triple = adder_node * 3 # adder_and_triple = tf.multiply(adder_node * 3) 와 똑같은 의미이다.\n",
        "\n",
        "sess = tf.Session()\n",
        "print(sess.run(adder_node, feed_dict={a:3, b:4.5})) #feed_dict = Feed Dictionary\n",
        "print(sess.run(adder_node, feed_dict={a:[1,3], b:[2,4]}))\n",
        "print(sess.run(adder_and_triple, feed_dict={a:3, b:4.5}))\n",
        "\n",
        "sess.close()"
      ],
      "execution_count": null,
      "outputs": [
        {
          "output_type": "stream",
          "text": [
            "7.5\n",
            "[3. 7.]\n",
            "22.5\n"
          ],
          "name": "stdout"
        }
      ]
    },
    {
      "cell_type": "markdown",
      "metadata": {
        "id": "lBOM7Us9vWlv",
        "colab_type": "text"
      },
      "source": [
        "```\n",
        "tf.Variable(initial_value=None, trainable=True, name=None)\n",
        "```\n",
        "tf.Variable은 optimaizer에 의해 최적화되는 가변값인 파라미터 theta를 선언할 수 있는 클래스다.\n",
        "* initial_value : 변수의 초기값이며, 변수의 shape을 포함한 상태로 지정되어야한다.\n",
        "* trainable : 트레이닝 가능 여부를 나타내는 옵션으로 기본값은 True다.\n",
        "* name : 텐서의 이름이다.\n",
        "\n",
        "ex)\n",
        "\n",
        "```\n",
        "W = tf.Variable(tf.random_normal([1]))\n",
        "```\n",
        "초기화로 사용될 수 있는 연산은 다음과 같다.\n",
        "\n",
        "1.   tf.random_noraml : 정규 분포에서 임의값을 추출한다.\n",
        "2.   tf.truncated_noraml : 끝이 잘린 정규분포에서 임의값을 추출한다.\n",
        "3.   tf.random.uniform : 균등분포에서 임의값을 추출한다.\n",
        "4.   tf.constant : 특정한 상수값으로 지정한 행렬을 채운다.\n",
        "5.   tf.zeros : 모두 0으로 지정한 행렬을 채운다.\n",
        "6.   tf.ones : 모두 1로 지정한 행렬을 채운다.\n",
        "\n",
        "\n",
        "\n"
      ]
    },
    {
      "cell_type": "code",
      "metadata": {
        "id": "e0gJdvW4yAuh",
        "colab_type": "code",
        "colab": {
          "base_uri": "https://localhost:8080/",
          "height": 34
        },
        "outputId": "972fcd5c-a616-41a2-91bb-418974f4f338"
      },
      "source": [
        "%tensorflow_version 1.x\n",
        "import tensorflow as tf\n",
        "\n",
        "W = tf.Variable(tf.random_normal(shape=[1]), name=\"W\")\n",
        "b = tf.Variable(tf.random_normal(shape=[1]), name=\"b\")\n",
        "x = tf.placeholder(tf.float32, name=\"x\")\n",
        "linear_model = W * x + b\n",
        "\n",
        "#target data\n",
        "y = tf.placeholder(tf.float32, name=\"y\")\n",
        "\n",
        "#define cost function\n",
        "loss = tf.reduce_mean(tf.square(linear_model - y)) #MSE Cost Function\n",
        "\n",
        "#Set Optimizer\n",
        "optimizer = tf.train.GradientDescentOptimizer(0.01) #set learning rate as 0.01\n",
        "train_step = optimizer.minimize(loss)\n",
        "\n",
        "#input value, target value\n",
        "x_train = [1,2,3,4]\n",
        "y_train = [2,4,6,8]\n",
        "\n",
        "sess = tf.Session()\n",
        "sess.run(tf.global_variables_initializer())\n",
        "\n",
        "\n",
        "for i in range(1000):\n",
        "    sess.run(train_step, feed_dict={x : x_train, y : y_train})\n",
        "\n",
        "#for test input value, to expect hypothesis function  : y = 2*x\n",
        "x_test = [3.5, 5, 5.5, 6]\n",
        "\n",
        "#expect output value = [7, 10, 11, 12]\n",
        "print(sess.run(linear_model, feed_dict={x : x_test}))\n",
        "\n",
        "sess.close()"
      ],
      "execution_count": null,
      "outputs": [
        {
          "output_type": "stream",
          "text": [
            "[ 6.9939904  9.977889  10.972522  11.9671545]\n"
          ],
          "name": "stdout"
        }
      ]
    },
    {
      "cell_type": "markdown",
      "metadata": {
        "id": "7vH4btH5d7wG",
        "colab_type": "text"
      },
      "source": [
        "소프트맥스 회귀를 이용해 MNIST 숫자 분류기를 구현해보자."
      ]
    },
    {
      "cell_type": "code",
      "metadata": {
        "id": "nMpYYWqebkgO",
        "colab_type": "code",
        "colab": {
          "base_uri": "https://localhost:8080/",
          "height": 105
        },
        "outputId": "a8174bd0-be84-49a6-973d-6ccf30a754a1"
      },
      "source": [
        "%tensorflow_version 1.x\n",
        "import tensorflow as tf\n",
        "\n",
        "#MNIST 숫자 분류 데이터 가져오기\n",
        "#download mnist data\n",
        "from tensorflow.examples.tutorials.mnist import input_data\n",
        "#mnist = input_data.read_data_sets('data', one_hot=True)\n",
        "mnist = input_data.read_data_sets('data', one_hot=False) #One_hot Encoding 을 끈 경우\n",
        "\n",
        "#define placeholder to save input, output data\n",
        "x = tf.placeholder(tf.float32, shape=[None, 784]) #임의의 인풋데이터를 위한 None, 28*28이므로 784\n",
        "#y = tf.placeholder(tf.float32, shape=[None, 10]) #임의의 타겟 데이터를 위한 None, One_hot Encoding으로 변환되서 0~9 까지이므로 10\n",
        "y = tf.placeholder(tf.int64, shape=[None]) #One_hot Encoding 을 끈 경우\n",
        "\n",
        "#set variables and define softmax model\n",
        "W = tf.Variable(tf.zeros(shape=[784,10])) #행은 10개, 열은 784개인 노드로 지정.\n",
        "b = tf.Variable(tf.zeros(shape=[10]))\n",
        "logits = tf.matmul(x, W) + b #W * x + b\n",
        "y_pred = tf.nn.softmax(logits) #소프트맥스 회귀모델 정의\n",
        "\n",
        "#define cross-entropy loss function and optimizer\n",
        "#loss = tf.reduce_mean(-tf.reduce_sum(y * tf.log(y_pred), reduction_indices=[1])) #크로스엔트로피 손실함수 수식= -sum(y*logy)\n",
        "#loss = tf.reduce_mean(tf.nn.softmax_cross_entropy_with_logits_v2(logits=logits, labels=y)) #API를 이용해서 크로그엔트로피 손실함수 사용\n",
        "loss = tf.reduce_mean(tf.nn.sparse_softmax_cross_entropy_with_logits(logits=logits, labels=y)) #One_hot Encoding 을 끈 경우\n",
        "train_step = tf.train.GradientDescentOptimizer(0.5).minimize(loss)\n",
        "\n",
        "#open session and init variables\n",
        "sess = tf.Session()\n",
        "sess.run(tf.global_variables_initializer())\n",
        "\n",
        "for i in range(1000):\n",
        "    batch_xs, batch_ys = mnist.train.next_batch(100) #데이터를 100개씩 불러와서 Mini-Batch로 만든다.\n",
        "    sess.run(train_step, feed_dict={x:batch_xs, y:batch_ys})\n",
        "\n",
        "#print correct_prediction\n",
        "#correct_prediction = tf.equal(tf.argmax(y_pred,1), tf.argmax(y,1))\n",
        "correct_prediction = tf.equal(tf.argmax(y_pred,1), y) #one_hot encoding을 끈 경우 argmax가 필요없다\n",
        "accuracy = tf.reduce_mean(tf.cast(correct_prediction, tf.float32))\n",
        "print(\"Accuracy : %f\" % sess.run(accuracy, feed_dict={x:mnist.test.images, y:mnist.test.labels}))\n",
        "sess.close()"
      ],
      "execution_count": 14,
      "outputs": [
        {
          "output_type": "stream",
          "text": [
            "Extracting data/train-images-idx3-ubyte.gz\n",
            "Extracting data/train-labels-idx1-ubyte.gz\n",
            "Extracting data/t10k-images-idx3-ubyte.gz\n",
            "Extracting data/t10k-labels-idx1-ubyte.gz\n",
            "Accuracy : 0.918800\n"
          ],
          "name": "stdout"
        }
      ]
    }
  ]
}